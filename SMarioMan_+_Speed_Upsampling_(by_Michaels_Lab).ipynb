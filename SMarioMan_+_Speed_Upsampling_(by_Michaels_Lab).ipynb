{
  "nbformat": 4,
  "nbformat_minor": 0,
  "metadata": {
    "accelerator": "GPU",
    "colab": {
      "name": "SMarioMan + Speed Upsampling (by Michaels Lab)",
      "provenance": [],
      "collapsed_sections": [],
      "machine_shape": "hm",
      "include_colab_link": true
    },
    "kernelspec": {
      "display_name": "Python 3",
      "name": "python3"
    }
  },
  "cells": [
    {
      "cell_type": "markdown",
      "metadata": {
        "id": "view-in-github",
        "colab_type": "text"
      },
      "source": [
        "<a href=\"https://colab.research.google.com/github/mdc202002/Berthas-Aquatic-Petting-Zoo-UE4/blob/main/SMarioMan_%2B_Speed_Upsampling_(by_Michaels_Lab).ipynb\" target=\"_parent\"><img src=\"https://colab.research.google.com/assets/colab-badge.svg\" alt=\"Open In Colab\"/></a>"
      ]
    },
    {
      "cell_type": "markdown",
      "metadata": {
        "id": "uq8uLwZCn0BV"
      },
      "source": [
        "IMPORTANT NOTE ON SYSTEM REQUIREMENTS:\n",
        "\n",
        "Old text: [If you are connecting to a hosted runtime, make sure it has a P100 GPU (optionally run !nvidia-smi to confirm). Go to Edit>Notebook Settings to set this.\n",
        "\n",
        "CoLab may first assign you a lower memory machine if you are using a hosted runtime.  If so, the first time you try to load the 5B model, it will run out of memory, and then you'll be prompted to restart with more memory (then return to the top of this CoLab).  If you continue to have memory issues after this (or run into issues on your own home setup), switch to the 1B model.\n",
        "\n",
        "If you are using a local GPU, we recommend V100 or P100 with 16GB GPU memory for best performance. For GPU’s with less memory, we recommend using the 1B model and a smaller batch size throughout.]  \n",
        "\n",
        "Edit: If you're a free Colab user, check which GPU you were assigned in the cell below. If you get a T4, you can run the 5b_lyrics model. The K80 can't handle it unfortunately, so you might have to switch to the weaker 1b_lyrics model.\n",
        "\n"
      ]
    },
    {
      "cell_type": "code",
      "metadata": {
        "id": "8qEqdj8u0gdN",
        "outputId": "5c220d3f-5ca9-4678-9b56-161056c89219",
        "colab": {
          "base_uri": "https://localhost:8080/"
        }
      },
      "source": [
        "!nvidia-smi -L"
      ],
      "execution_count": 1,
      "outputs": [
        {
          "output_type": "stream",
          "name": "stdout",
          "text": [
            "GPU 0: Tesla V100-SXM2-16GB (UUID: GPU-29c1d0fb-d6a2-dc0d-197b-ea9c2b1bd39b)\n"
          ]
        }
      ]
    },
    {
      "cell_type": "markdown",
      "metadata": {
        "id": "VAMZK4GNA_PM"
      },
      "source": [
        "Mount Google Drive to save sample levels as they are generated."
      ]
    },
    {
      "cell_type": "code",
      "metadata": {
        "id": "ZPdMgaH_BPGN",
        "outputId": "3e7bd395-0a15-4fe0-f30b-1a4ef037f6b0",
        "colab": {
          "base_uri": "https://localhost:8080/"
        }
      },
      "source": [
        "from google.colab import drive\n",
        "drive.mount('/content/gdrive')"
      ],
      "execution_count": 2,
      "outputs": [
        {
          "output_type": "stream",
          "name": "stdout",
          "text": [
            "Mounted at /content/gdrive\n"
          ]
        }
      ]
    },
    {
      "cell_type": "markdown",
      "metadata": {
        "id": "Zy4Rehq9ZKv_"
      },
      "source": [
        "Prepare the environment."
      ]
    },
    {
      "cell_type": "code",
      "metadata": {
        "id": "sAdFGF-bqVMY",
        "outputId": "0e0e8ab2-fb35-4fd8-f41b-0ad0496e0bc3",
        "colab": {
          "base_uri": "https://localhost:8080/"
        }
      },
      "source": [
        "!pip install torch==1.9.1+cu111 torchvision==0.10.1+cu111 torchaudio==0.9.1 -f https://download.pytorch.org/whl/torch_stable.html\n",
        "!pip install git+https://github.com/craftmine1000/jukebox-opt.git"
      ],
      "execution_count": 3,
      "outputs": [
        {
          "output_type": "stream",
          "name": "stdout",
          "text": [
            "Looking in links: https://download.pytorch.org/whl/torch_stable.html\n",
            "Collecting torch==1.9.1+cu111\n",
            "  Downloading https://download.pytorch.org/whl/cu111/torch-1.9.1%2Bcu111-cp37-cp37m-linux_x86_64.whl (2041.3 MB)\n",
            "\u001b[K     |█████████████                   | 834.1 MB 1.2 MB/s eta 0:16:49tcmalloc: large alloc 1147494400 bytes == 0x555e3127c000 @  0x7ff6895f9615 0x555df6ce53bc 0x555df6dc618a 0x555df6ce81cd 0x555df6ddab3d 0x555df6d5c458 0x555df6d5702f 0x555df6ce9aba 0x555df6d5c2c0 0x555df6d5702f 0x555df6ce9aba 0x555df6d58cd4 0x555df6ddb986 0x555df6d58350 0x555df6ddb986 0x555df6d58350 0x555df6ddb986 0x555df6d58350 0x555df6ce9f19 0x555df6d2da79 0x555df6ce8b32 0x555df6d5c1dd 0x555df6d5702f 0x555df6ce9aba 0x555df6d58cd4 0x555df6d5702f 0x555df6ce9aba 0x555df6d57eae 0x555df6ce99da 0x555df6d58108 0x555df6d5702f\n",
            "\u001b[K     |████████████████▌               | 1055.7 MB 1.2 MB/s eta 0:13:52tcmalloc: large alloc 1434370048 bytes == 0x555e758d2000 @  0x7ff6895f9615 0x555df6ce53bc 0x555df6dc618a 0x555df6ce81cd 0x555df6ddab3d 0x555df6d5c458 0x555df6d5702f 0x555df6ce9aba 0x555df6d5c2c0 0x555df6d5702f 0x555df6ce9aba 0x555df6d58cd4 0x555df6ddb986 0x555df6d58350 0x555df6ddb986 0x555df6d58350 0x555df6ddb986 0x555df6d58350 0x555df6ce9f19 0x555df6d2da79 0x555df6ce8b32 0x555df6d5c1dd 0x555df6d5702f 0x555df6ce9aba 0x555df6d58cd4 0x555df6d5702f 0x555df6ce9aba 0x555df6d57eae 0x555df6ce99da 0x555df6d58108 0x555df6d5702f\n",
            "\u001b[K     |█████████████████████           | 1336.2 MB 1.2 MB/s eta 0:10:02tcmalloc: large alloc 1792966656 bytes == 0x555dfa704000 @  0x7ff6895f9615 0x555df6ce53bc 0x555df6dc618a 0x555df6ce81cd 0x555df6ddab3d 0x555df6d5c458 0x555df6d5702f 0x555df6ce9aba 0x555df6d5c2c0 0x555df6d5702f 0x555df6ce9aba 0x555df6d58cd4 0x555df6ddb986 0x555df6d58350 0x555df6ddb986 0x555df6d58350 0x555df6ddb986 0x555df6d58350 0x555df6ce9f19 0x555df6d2da79 0x555df6ce8b32 0x555df6d5c1dd 0x555df6d5702f 0x555df6ce9aba 0x555df6d58cd4 0x555df6d5702f 0x555df6ce9aba 0x555df6d57eae 0x555df6ce99da 0x555df6d58108 0x555df6d5702f\n",
            "\u001b[K     |██████████████████████████▌     | 1691.1 MB 126.6 MB/s eta 0:00:03tcmalloc: large alloc 2241208320 bytes == 0x555e654ec000 @  0x7ff6895f9615 0x555df6ce53bc 0x555df6dc618a 0x555df6ce81cd 0x555df6ddab3d 0x555df6d5c458 0x555df6d5702f 0x555df6ce9aba 0x555df6d5c2c0 0x555df6d5702f 0x555df6ce9aba 0x555df6d58cd4 0x555df6ddb986 0x555df6d58350 0x555df6ddb986 0x555df6d58350 0x555df6ddb986 0x555df6d58350 0x555df6ce9f19 0x555df6d2da79 0x555df6ce8b32 0x555df6d5c1dd 0x555df6d5702f 0x555df6ce9aba 0x555df6d58cd4 0x555df6d5702f 0x555df6ce9aba 0x555df6d57eae 0x555df6ce99da 0x555df6d58108 0x555df6d5702f\n",
            "\u001b[K     |████████████████████████████████| 2041.3 MB 1.2 MB/s eta 0:00:01tcmalloc: large alloc 2041315328 bytes == 0x555eeae4e000 @  0x7ff6895f81e7 0x555df6d1b5d7 0x555df6ce53bc 0x555df6dc618a 0x555df6ce81cd 0x555df6ddab3d 0x555df6d5c458 0x555df6d5702f 0x555df6ce9aba 0x555df6d58108 0x555df6d5702f 0x555df6ce9aba 0x555df6d58108 0x555df6d5702f 0x555df6ce9aba 0x555df6d58108 0x555df6d5702f 0x555df6ce9aba 0x555df6d58108 0x555df6d5702f 0x555df6ce9aba 0x555df6d58108 0x555df6ce99da 0x555df6d58108 0x555df6d5702f 0x555df6ce9aba 0x555df6d58cd4 0x555df6d5702f 0x555df6ce9aba 0x555df6d58cd4 0x555df6d5702f\n",
            "tcmalloc: large alloc 2551644160 bytes == 0x555fd8d92000 @  0x7ff6895f9615 0x555df6ce53bc 0x555df6dc618a 0x555df6ce81cd 0x555df6ddab3d 0x555df6d5c458 0x555df6d5702f 0x555df6ce9aba 0x555df6d58108 0x555df6d5702f 0x555df6ce9aba 0x555df6d58108 0x555df6d5702f 0x555df6ce9aba 0x555df6d58108 0x555df6d5702f 0x555df6ce9aba 0x555df6d58108 0x555df6d5702f 0x555df6ce9aba 0x555df6d58108 0x555df6ce99da 0x555df6d58108 0x555df6d5702f 0x555df6ce9aba 0x555df6d58cd4 0x555df6d5702f 0x555df6ce9aba 0x555df6d58cd4 0x555df6d5702f 0x555df6cea151\n",
            "\u001b[K     |████████████████████████████████| 2041.3 MB 8.1 kB/s \n",
            "\u001b[?25hCollecting torchvision==0.10.1+cu111\n",
            "  Downloading https://download.pytorch.org/whl/cu111/torchvision-0.10.1%2Bcu111-cp37-cp37m-linux_x86_64.whl (20.6 MB)\n",
            "\u001b[K     |████████████████████████████████| 20.6 MB 1.1 MB/s \n",
            "\u001b[?25hCollecting torchaudio==0.9.1\n",
            "  Downloading torchaudio-0.9.1-cp37-cp37m-manylinux1_x86_64.whl (1.9 MB)\n",
            "\u001b[K     |████████████████████████████████| 1.9 MB 4.2 MB/s \n",
            "\u001b[?25hRequirement already satisfied: typing-extensions in /usr/local/lib/python3.7/dist-packages (from torch==1.9.1+cu111) (3.10.0.2)\n",
            "Requirement already satisfied: numpy in /usr/local/lib/python3.7/dist-packages (from torchvision==0.10.1+cu111) (1.19.5)\n",
            "Requirement already satisfied: pillow>=5.3.0 in /usr/local/lib/python3.7/dist-packages (from torchvision==0.10.1+cu111) (7.1.2)\n",
            "Installing collected packages: torch, torchvision, torchaudio\n",
            "  Attempting uninstall: torch\n",
            "    Found existing installation: torch 1.10.0+cu111\n",
            "    Uninstalling torch-1.10.0+cu111:\n",
            "      Successfully uninstalled torch-1.10.0+cu111\n",
            "  Attempting uninstall: torchvision\n",
            "    Found existing installation: torchvision 0.11.1+cu111\n",
            "    Uninstalling torchvision-0.11.1+cu111:\n",
            "      Successfully uninstalled torchvision-0.11.1+cu111\n",
            "  Attempting uninstall: torchaudio\n",
            "    Found existing installation: torchaudio 0.10.0+cu111\n",
            "    Uninstalling torchaudio-0.10.0+cu111:\n",
            "      Successfully uninstalled torchaudio-0.10.0+cu111\n",
            "\u001b[31mERROR: pip's dependency resolver does not currently take into account all the packages that are installed. This behaviour is the source of the following dependency conflicts.\n",
            "torchtext 0.11.0 requires torch==1.10.0, but you have torch 1.9.1+cu111 which is incompatible.\u001b[0m\n",
            "Successfully installed torch-1.9.1+cu111 torchaudio-0.9.1 torchvision-0.10.1+cu111\n",
            "Collecting git+https://github.com/craftmine1000/jukebox-opt.git\n",
            "  Cloning https://github.com/craftmine1000/jukebox-opt.git to /tmp/pip-req-build-da1b11m7\n",
            "  Running command git clone -q https://github.com/craftmine1000/jukebox-opt.git /tmp/pip-req-build-da1b11m7\n",
            "Collecting fire==0.1.3\n",
            "  Downloading fire-0.1.3.tar.gz (33 kB)\n",
            "Collecting tqdm==4.45.0\n",
            "  Downloading tqdm-4.45.0-py2.py3-none-any.whl (60 kB)\n",
            "\u001b[K     |████████████████████████████████| 60 kB 5.8 MB/s \n",
            "\u001b[?25hRequirement already satisfied: soundfile==0.10.3.post1 in /usr/local/lib/python3.7/dist-packages (from jukebox==1.0) (0.10.3.post1)\n",
            "Collecting unidecode==1.1.1\n",
            "  Downloading Unidecode-1.1.1-py2.py3-none-any.whl (238 kB)\n",
            "\u001b[K     |████████████████████████████████| 238 kB 23.3 MB/s \n",
            "\u001b[?25hCollecting numba==0.48.0\n",
            "  Downloading numba-0.48.0-1-cp37-cp37m-manylinux2014_x86_64.whl (3.5 MB)\n",
            "\u001b[K     |████████████████████████████████| 3.5 MB 98.8 MB/s \n",
            "\u001b[?25hCollecting librosa==0.7.2\n",
            "  Downloading librosa-0.7.2.tar.gz (1.6 MB)\n",
            "\u001b[K     |████████████████████████████████| 1.6 MB 63.9 MB/s \n",
            "\u001b[?25hCollecting mpi4py>=3.0.0\n",
            "  Downloading mpi4py-3.1.3.tar.gz (2.5 MB)\n",
            "\u001b[K     |████████████████████████████████| 2.5 MB 60.0 MB/s \n",
            "\u001b[?25h  Installing build dependencies ... \u001b[?25l\u001b[?25hdone\n",
            "  Getting requirements to build wheel ... \u001b[?25l\u001b[?25hdone\n",
            "    Preparing wheel metadata ... \u001b[?25l\u001b[?25hdone\n",
            "Requirement already satisfied: six in /usr/local/lib/python3.7/dist-packages (from fire==0.1.3->jukebox==1.0) (1.15.0)\n",
            "Requirement already satisfied: audioread>=2.0.0 in /usr/local/lib/python3.7/dist-packages (from librosa==0.7.2->jukebox==1.0) (2.1.9)\n",
            "Requirement already satisfied: numpy>=1.15.0 in /usr/local/lib/python3.7/dist-packages (from librosa==0.7.2->jukebox==1.0) (1.19.5)\n",
            "Requirement already satisfied: scipy>=1.0.0 in /usr/local/lib/python3.7/dist-packages (from librosa==0.7.2->jukebox==1.0) (1.4.1)\n",
            "Requirement already satisfied: scikit-learn!=0.19.0,>=0.14.0 in /usr/local/lib/python3.7/dist-packages (from librosa==0.7.2->jukebox==1.0) (1.0.2)\n",
            "Requirement already satisfied: joblib>=0.12 in /usr/local/lib/python3.7/dist-packages (from librosa==0.7.2->jukebox==1.0) (1.1.0)\n",
            "Requirement already satisfied: decorator>=3.0.0 in /usr/local/lib/python3.7/dist-packages (from librosa==0.7.2->jukebox==1.0) (4.4.2)\n",
            "Requirement already satisfied: resampy>=0.2.2 in /usr/local/lib/python3.7/dist-packages (from librosa==0.7.2->jukebox==1.0) (0.2.2)\n",
            "Collecting llvmlite<0.32.0,>=0.31.0dev0\n",
            "  Downloading llvmlite-0.31.0-cp37-cp37m-manylinux1_x86_64.whl (20.2 MB)\n",
            "\u001b[K     |████████████████████████████████| 20.2 MB 68.0 MB/s \n",
            "\u001b[?25hRequirement already satisfied: setuptools in /usr/local/lib/python3.7/dist-packages (from numba==0.48.0->jukebox==1.0) (57.4.0)\n",
            "Requirement already satisfied: cffi>=1.0 in /usr/local/lib/python3.7/dist-packages (from soundfile==0.10.3.post1->jukebox==1.0) (1.15.0)\n",
            "Requirement already satisfied: pycparser in /usr/local/lib/python3.7/dist-packages (from cffi>=1.0->soundfile==0.10.3.post1->jukebox==1.0) (2.21)\n",
            "Requirement already satisfied: threadpoolctl>=2.0.0 in /usr/local/lib/python3.7/dist-packages (from scikit-learn!=0.19.0,>=0.14.0->librosa==0.7.2->jukebox==1.0) (3.1.0)\n",
            "Building wheels for collected packages: jukebox, fire, librosa, mpi4py\n",
            "  Building wheel for jukebox (setup.py) ... \u001b[?25l\u001b[?25hdone\n",
            "  Created wheel for jukebox: filename=jukebox-1.0-py3-none-any.whl size=204812 sha256=de63fd0d59075d545b28f364d7ea8e2e69f8a3247737647ae98dac1dad385e22\n",
            "  Stored in directory: /tmp/pip-ephem-wheel-cache-_2fv96wu/wheels/51/84/29/89b70e25b158ee036f2f49f3302ba9b9f9216bbd1be01cd8d7\n",
            "  Building wheel for fire (setup.py) ... \u001b[?25l\u001b[?25hdone\n",
            "  Created wheel for fire: filename=fire-0.1.3-py2.py3-none-any.whl size=49719 sha256=a0af8e6a6ebdc93646d5a56cf7b2bbf3d59a17d7a1a365a829879f0815a84e2c\n",
            "  Stored in directory: /root/.cache/pip/wheels/dd/c5/df/d9bf8223023d31343b65f1cc57d2dc005610ebbcd2b4a5d1e7\n",
            "  Building wheel for librosa (setup.py) ... \u001b[?25l\u001b[?25hdone\n",
            "  Created wheel for librosa: filename=librosa-0.7.2-py3-none-any.whl size=1612902 sha256=655ce34af096619541c667f2dbb24d35f8ae01bfbc06f4b48cfa6d6eed0f2776\n",
            "  Stored in directory: /root/.cache/pip/wheels/18/9e/42/3224f85730f92fa2925f0b4fb6ef7f9c5431a64dfc77b95b39\n",
            "  Building wheel for mpi4py (PEP 517) ... \u001b[?25l\u001b[?25hdone\n",
            "  Created wheel for mpi4py: filename=mpi4py-3.1.3-cp37-cp37m-linux_x86_64.whl size=2185272 sha256=f5c245c5b3549d2d287aae8a2e3a228f87cc9ecd720d1e2dd9cabe03bd03b194\n",
            "  Stored in directory: /root/.cache/pip/wheels/7a/07/14/6a0c63fa2c6e473c6edc40985b7d89f05c61ff25ee7f0ad9ac\n",
            "Successfully built jukebox fire librosa mpi4py\n",
            "Installing collected packages: llvmlite, numba, unidecode, tqdm, mpi4py, librosa, fire, jukebox\n",
            "  Attempting uninstall: llvmlite\n",
            "    Found existing installation: llvmlite 0.34.0\n",
            "    Uninstalling llvmlite-0.34.0:\n",
            "      Successfully uninstalled llvmlite-0.34.0\n",
            "  Attempting uninstall: numba\n",
            "    Found existing installation: numba 0.51.2\n",
            "    Uninstalling numba-0.51.2:\n",
            "      Successfully uninstalled numba-0.51.2\n",
            "  Attempting uninstall: tqdm\n",
            "    Found existing installation: tqdm 4.62.3\n",
            "    Uninstalling tqdm-4.62.3:\n",
            "      Successfully uninstalled tqdm-4.62.3\n",
            "  Attempting uninstall: librosa\n",
            "    Found existing installation: librosa 0.8.1\n",
            "    Uninstalling librosa-0.8.1:\n",
            "      Successfully uninstalled librosa-0.8.1\n",
            "\u001b[31mERROR: pip's dependency resolver does not currently take into account all the packages that are installed. This behaviour is the source of the following dependency conflicts.\n",
            "torchtext 0.11.0 requires torch==1.10.0, but you have torch 1.9.1+cu111 which is incompatible.\n",
            "panel 0.12.1 requires tqdm>=4.48.0, but you have tqdm 4.45.0 which is incompatible.\u001b[0m\n",
            "Successfully installed fire-0.1.3 jukebox-1.0 librosa-0.7.2 llvmlite-0.31.0 mpi4py-3.1.3 numba-0.48.0 tqdm-4.45.0 unidecode-1.1.1\n"
          ]
        }
      ]
    },
    {
      "cell_type": "code",
      "metadata": {
        "id": "taDHgk1WCC_C",
        "outputId": "2c6c6d57-22e0-4ac2-f825-3efb2677a80a",
        "colab": {
          "base_uri": "https://localhost:8080/"
        }
      },
      "source": [
        "import jukebox\n",
        "import torch as t\n",
        "import librosa\n",
        "import os\n",
        "from IPython.display import Audio\n",
        "from jukebox.make_models import make_vqvae, make_prior, MODELS, make_model\n",
        "from jukebox.hparams import Hyperparams, setup_hparams\n",
        "from jukebox.sample import sample_single_window, _sample, \\\n",
        "                           sample_partial_window, upsample, \\\n",
        "                           load_prompts\n",
        "from jukebox.utils.dist_utils import setup_dist_from_mpi\n",
        "from jukebox.utils.torch_utils import empty_cache\n",
        "# MPI Connect. MPI doesn't like being initialized twice, hence the following\n",
        "try:\n",
        "    if device is not None:\n",
        "        pass\n",
        "except NameError:\n",
        "    rank, local_rank, device = setup_dist_from_mpi()"
      ],
      "execution_count": 1,
      "outputs": [
        {
          "output_type": "stream",
          "name": "stdout",
          "text": [
            "Welcome to jukebox-opt, a system ram optimized version of jukebox.\n",
            "For most notebooks/enviroments this acts as a mostly drop in replacement.\n",
            "\n",
            "I say mostly because most notebooks/enviroments tend to load the tokens (zs)\n",
            "onto the gpu when i want them on the cpu to allow for longer songs, my code\n",
            "will put it back once loaded from a checkpoint, if the song is to longer than normal\n",
            "when loading it will use too much gpu memory and probably error out later in\n",
            "generation. To fix this, go through your notebook and change all 'cuda' to 'cpu'\n",
            "and all .cuda() to .cpu() for the tokens (zs).\n",
            "\n",
            "Example; change \"zs = t.load(blablabla, location='cuda')\" to \"zs = t.load(blablabla, location='cpu')\"\n",
            "Example; change \"zs = [ z.cuda() for z in zs ]\" to \"zs = [ z.cpu() for z in zs ]\"\n",
            "Example; change \"zs[blabla].cuda()\" to \"zs[blabla].cpu()\"\n",
            "\n",
            "\n",
            "Using cuda True\n"
          ]
        }
      ]
    },
    {
      "cell_type": "markdown",
      "metadata": {
        "id": "89FftI5kc-Az"
      },
      "source": [
        "# Sample from the 5B or 1B Lyrics Model\n",
        "\n"
      ]
    },
    {
      "cell_type": "code",
      "metadata": {
        "id": "65aR2OZxmfzq",
        "outputId": "10750943-7c8e-4e4d-9cb2-d7f3face855a",
        "colab": {
          "base_uri": "https://localhost:8080/"
        }
      },
      "source": [
        "model = '5b_lyrics' # or '5b' or '1b_lyrics'\n",
        "hps = Hyperparams()\n",
        "hps.sr = 44100\n",
        "hps.n_samples = 2\n",
        "# Specifies the directory to save the sample in.\n",
        "# We set this to the Google Drive mount point.\n",
        "hps.name = '/content/gdrive/My Drive/GGlsso'\n",
        "chunk_size = 16 if model in ('5b', '5b_lyrics') else 28\n",
        "max_batch_size = 2 if model in ('5b', '5b_lyrics') else 18\n",
        "hps.levels = 3\n",
        "hps.hop_fraction = [1,1,.125]\n",
        "\n",
        "vqvae, *priors = MODELS[model]\n",
        "vqvae = make_vqvae(setup_hparams(vqvae, dict(sample_length = 1048576)), device)\n",
        "top_prior = make_prior(setup_hparams(priors[-1], dict()), vqvae, device)"
      ],
      "execution_count": 13,
      "outputs": [
        {
          "output_type": "stream",
          "name": "stderr",
          "text": [
            "100%|██████████| 669/669 [00:00<00:00, 56829.01it/s]"
          ]
        },
        {
          "output_type": "stream",
          "name": "stdout",
          "text": [
            "Downloading from azure\n",
            "Restored from /root/.cache/jukebox/models/5b/vqvae.pth.tar\n",
            "0: Loading vqvae in eval mode\n"
          ]
        },
        {
          "output_type": "stream",
          "name": "stderr",
          "text": [
            "\n",
            "100%|██████████| 18/18 [00:00<00:00, 25.64it/s]\n",
            "100%|██████████| 79/79 [00:39<00:00,  1.99it/s]\n"
          ]
        },
        {
          "output_type": "stream",
          "name": "stdout",
          "text": [
            "Loading artist IDs from /usr/local/lib/python3.7/dist-packages/jukebox/data/ids/v2_artist_ids.txt\n",
            "Loading artist IDs from /usr/local/lib/python3.7/dist-packages/jukebox/data/ids/v2_genre_ids.txt\n",
            "Level:2, Cond downsample:None, Raw to tokens:128, Sample length:1048576\n",
            "Downloading from azure\n",
            "Running  wget -O /root/.cache/jukebox/models/5b_lyrics/prior_level_2.pth.tar https://openaipublic.azureedge.net/jukebox/models/5b_lyrics/prior_level_2.pth.tar\n"
          ]
        },
        {
          "output_type": "stream",
          "name": "stderr",
          "text": [
            "100%|██████████| 1194/1194 [01:27<00:00, 13.66it/s]\n"
          ]
        },
        {
          "output_type": "stream",
          "name": "stdout",
          "text": [
            "Restored from /root/.cache/jukebox/models/5b_lyrics/prior_level_2.pth.tar\n",
            "0: Loading prior in eval mode\n"
          ]
        }
      ]
    },
    {
      "cell_type": "markdown",
      "metadata": {
        "id": "rvf-5pnjbmI1"
      },
      "source": [
        "# Select mode\n",
        "Run one of these cells to select the desired mode."
      ]
    },
    {
      "cell_type": "code",
      "metadata": {
        "id": "VVOQ3egdj65y"
      },
      "source": [
        "# The default mode of operation.\n",
        "# Creates songs based on artist and genre conditioning.\n",
        "mode = 'ancestral'\n",
        "codes_file=None\n",
        "audio_file=None\n",
        "prompt_length_in_seconds=None"
      ],
      "execution_count": 14,
      "outputs": []
    },
    {
      "cell_type": "code",
      "metadata": {
        "id": "Vqqv2rJKkMXd"
      },
      "source": [
        "# Prime song creation using an arbitrary audio sample.\n",
        "mode = 'primed'\n",
        "codes_file=None\n",
        "# Specify an audio file here.\n",
        "audio_file = '/content/stupidity.mp3'\n",
        "# Specify how many seconds of audio to prime on.\n",
        "prompt_length_in_seconds=10"
      ],
      "execution_count": 6,
      "outputs": []
    },
    {
      "cell_type": "markdown",
      "metadata": {
        "id": "OxZMi-S3cT2b"
      },
      "source": [
        "Run this cell to automatically resume from the latest checkpoint file, but only if the checkpoint file exists.\n",
        "This will override the selected mode.\n",
        "We will assume the existance of a checkpoint means generation is complete and it's time for upsamping to occur."
      ]
    },
    {
      "cell_type": "code",
      "metadata": {
        "id": "GjRwyTDhbvf-"
      },
      "source": [
        "if os.path.exists(hps.name):\n",
        "  # Identify the lowest level generated and continue from there.\n",
        "  for level in [0, 1, 2]:\n",
        "    data = f\"{hps.name}/level_{level}/data.pth.tar\"\n",
        "    if os.path.isfile(data):\n",
        "      mode = 'upsample'\n",
        "      codes_file = data\n",
        "      print('Upsampling from level '+str(level))\n",
        "      break\n",
        "print('mode is now '+mode)"
      ],
      "execution_count": null,
      "outputs": []
    },
    {
      "cell_type": "markdown",
      "metadata": {
        "id": "UA2UhOZ4YfZj"
      },
      "source": [
        "Run the cell below regardless of which mode you chose."
      ]
    },
    {
      "cell_type": "code",
      "metadata": {
        "id": "Jp7nKnCmk1bx"
      },
      "source": [
        "sample_hps = Hyperparams(dict(mode=mode, codes_file=codes_file, audio_file=audio_file, prompt_length_in_seconds=prompt_length_in_seconds))"
      ],
      "execution_count": 15,
      "outputs": []
    },
    {
      "cell_type": "markdown",
      "metadata": {
        "id": "JYKiwkzy0Iyf"
      },
      "source": [
        "Specify your choice of artist, genre, lyrics, and length of musical sample. "
      ]
    },
    {
      "cell_type": "code",
      "metadata": {
        "id": "-sY9aGHcZP-u"
      },
      "source": [
        "sample_length_in_seconds = 71          # Full length of musical sample to generate - we find songs in the 1 to 4 minute\n",
        "                                       # range work well, with generation time proportional to sample length.  \n",
        "                                       # This total length affects how quickly the model \n",
        "                                       # progresses through lyrics (model also generates differently\n",
        "                                       # depending on if it thinks it's in the beginning, middle, or end of sample)\n",
        "hps.sample_length = (int(sample_length_in_seconds*hps.sr)//top_prior.raw_to_tokens)*top_prior.raw_to_tokens\n",
        "assert hps.sample_length >= top_prior.n_ctx*top_prior.raw_to_tokens, f'Please choose a larger sampling rate'"
      ],
      "execution_count": 16,
      "outputs": []
    },
    {
      "cell_type": "code",
      "metadata": {
        "id": "qD0qxQeLaTR0",
        "outputId": "57e1eda1-21d6-4741-a6f7-32e798ed9bd4",
        "colab": {
          "base_uri": "https://localhost:8080/"
        }
      },
      "source": [
        "# Note: Metas can contain different prompts per sample.\n",
        "# By default, all samples use the same prompt.\n",
        "metas = [dict(artist = \"depeche_mode\",\n",
        "            genre = \"cold new wave j rock\",\n",
        "            total_length = hps.sample_length,\n",
        "            offset = 0,\n",
        "            lyrics = \"\"\"\"\"\",\n",
        "            ),\n",
        "          ] * hps.n_samples\n",
        "labels = [None, None, top_prior.labeller.get_batch_labels(metas, 'cuda')]"
      ],
      "execution_count": 18,
      "outputs": [
        {
          "output_type": "stream",
          "name": "stdout",
          "text": [
            "Input genre cold new wave j rock maps to the list ['cold', 'new', 'wave', 'j', 'rock']. cold is not present in /usr/local/lib/python3.7/dist-packages/jukebox/data/ids/v2_genre_ids.txt. Defaulting to (word_id, word) = (0, unknown), if that seems wrong please format genre correctly\n",
            "Input genre cold new wave j rock maps to the list ['cold', 'new', 'wave', 'j', 'rock']. cold is not present in /usr/local/lib/python3.7/dist-packages/jukebox/data/ids/v2_genre_ids.txt. Defaulting to (word_id, word) = (0, unknown), if that seems wrong please format genre correctly\n"
          ]
        }
      ]
    },
    {
      "cell_type": "markdown",
      "metadata": {
        "id": "6PHC1XnEfV4Y"
      },
      "source": [
        "Optionally adjust the sampling temperature (we've found .98 or .99 to be our favorite).  \n"
      ]
    },
    {
      "cell_type": "code",
      "metadata": {
        "id": "eNwKyqYraTR9"
      },
      "source": [
        "sampling_temperature = .9898\n",
        "\n",
        "lower_batch_size = 20\n",
        "max_batch_size = 3 if model in ('5b', '5b_lyrics') else 20\n",
        "lower_level_chunk_size = 34\n",
        "chunk_size = 16 if model in ('5b', '5b_lyrics') else 28\n",
        "sampling_kwargs = [dict(temp=.99, fp16=True, max_batch_size=lower_batch_size,\n",
        "                        chunk_size=lower_level_chunk_size),\n",
        "                    dict(temp=0.99, fp16=True, max_batch_size=lower_batch_size,\n",
        "                         chunk_size=lower_level_chunk_size),\n",
        "                    dict(temp=sampling_temperature, fp16=True, \n",
        "                         max_batch_size=max_batch_size, chunk_size=chunk_size)]"
      ],
      "execution_count": 19,
      "outputs": []
    },
    {
      "cell_type": "markdown",
      "metadata": {
        "id": "S3j0gT3HfrRD"
      },
      "source": [
        "Now we're ready to sample from the model. We'll generate the top level (2) first, followed by the first upsampling (level 1), and the second upsampling (0).  In this CoLab we load the top prior separately from the upsamplers, because of memory concerns on the hosted runtimes. If you are using a local machine, you can also load all models directly with make_models, and then use sample.py's ancestral_sampling to put this all in one step.\n",
        "\n",
        "After each level, we decode to raw audio and save the audio files.   \n",
        "\n",
        "This next cell will take a while (approximately 10 minutes per 20 seconds of music sample)"
      ]
    },
    {
      "cell_type": "code",
      "metadata": {
        "colab": {
          "base_uri": "https://localhost:8080/"
        },
        "id": "9a1tlvcVlHhN",
        "outputId": "f3304f2d-448f-48d4-d35a-a6ed0b5db313"
      },
      "source": [
        "if sample_hps.mode == 'ancestral':\n",
        "  zs = [t.zeros(hps.n_samples,0,dtype=t.long, device='cpu') for _ in range(len(priors))]\n",
        "  zs = _sample(zs, labels, sampling_kwargs, [None, None, top_prior], [2], hps)\n",
        "elif sample_hps.mode == 'upsample':\n",
        "  assert sample_hps.codes_file is not None\n",
        "  # Load codes.\n",
        "  data = t.load(sample_hps.codes_file, map_location='cpu')\n",
        "  zs = [z.cpu() for z in data['zs']]\n",
        "  assert zs[-1].shape[0] == hps.n_samples, f\"Expected bs = {hps.n_samples}, got {zs[-1].shape[0]}\"\n",
        "  del data\n",
        "  print('Falling through to the upsample step later in the notebook.')\n",
        "elif sample_hps.mode == 'primed':\n",
        "  assert sample_hps.audio_file is not None\n",
        "  audio_files = sample_hps.audio_file.split(',')\n",
        "  duration = (int(sample_hps.prompt_length_in_seconds*hps.sr)//top_prior.raw_to_tokens)*top_prior.raw_to_tokens\n",
        "  x = load_prompts(audio_files, duration, hps)\n",
        "  zs = top_prior.encode(x, start_level=0, end_level=len(priors), bs_chunks=x.shape[0])\n",
        "  zs = _sample(zs, labels, sampling_kwargs, [None, None, top_prior], [2], hps)\n",
        "else:\n",
        "  raise ValueError(f'Unknown sample mode {sample_hps.mode}.')"
      ],
      "execution_count": 20,
      "outputs": [
        {
          "output_type": "stream",
          "name": "stdout",
          "text": [
            "Sampling level 2\n",
            "Sampling 8192 tokens for [0,8192]. Conditioning on 0 tokens\n",
            "Ancestral sampling 2 samples with temp=0.9898, top_k=0, top_p=0.0\n",
            "8192/8192 [09:48<00:00, 13.92it/s]\n",
            "Sampling 8192 tokens for [1024,9216]. Conditioning on 7168 tokens\n",
            "Primed sampling 2 samples with temp=0.9898, top_k=0, top_p=0.0\n",
            "448/448 [00:41<00:00, 10.71it/s]\n",
            "1024/1024 [01:13<00:00, 13.92it/s]\n",
            "Sampling 8192 tokens for [2048,10240]. Conditioning on 7168 tokens\n",
            "Primed sampling 2 samples with temp=0.9898, top_k=0, top_p=0.0\n",
            "448/448 [00:41<00:00, 10.70it/s]\n",
            "1024/1024 [01:13<00:00, 13.93it/s]\n",
            "Sampling 8192 tokens for [3072,11264]. Conditioning on 7168 tokens\n",
            "Primed sampling 2 samples with temp=0.9898, top_k=0, top_p=0.0\n",
            "448/448 [00:41<00:00, 10.70it/s]\n",
            "1024/1024 [01:13<00:00, 13.91it/s]\n",
            "Sampling 8192 tokens for [4096,12288]. Conditioning on 7168 tokens\n",
            "Primed sampling 2 samples with temp=0.9898, top_k=0, top_p=0.0\n",
            "448/448 [00:41<00:00, 10.72it/s]\n",
            "1024/1024 [01:13<00:00, 13.97it/s]\n",
            "Sampling 8192 tokens for [5120,13312]. Conditioning on 7168 tokens\n",
            "Primed sampling 2 samples with temp=0.9898, top_k=0, top_p=0.0\n",
            "448/448 [00:41<00:00, 10.73it/s]\n",
            "1024/1024 [01:13<00:00, 13.92it/s]\n",
            "Sampling 8192 tokens for [6144,14336]. Conditioning on 7168 tokens\n",
            "Primed sampling 2 samples with temp=0.9898, top_k=0, top_p=0.0\n",
            "448/448 [00:41<00:00, 10.79it/s]\n",
            "1024/1024 [01:14<00:00, 13.70it/s]\n",
            "Sampling 8192 tokens for [7168,15360]. Conditioning on 7168 tokens\n",
            "Primed sampling 2 samples with temp=0.9898, top_k=0, top_p=0.0\n",
            "448/448 [00:42<00:00, 10.57it/s]\n",
            "1024/1024 [01:14<00:00, 13.79it/s]\n",
            "Sampling 8192 tokens for [8192,16384]. Conditioning on 7168 tokens\n",
            "Primed sampling 2 samples with temp=0.9898, top_k=0, top_p=0.0\n",
            "448/448 [00:42<00:00, 10.53it/s]\n",
            "1024/1024 [01:14<00:00, 13.78it/s]\n",
            "Sampling 8192 tokens for [9216,17408]. Conditioning on 7168 tokens\n",
            "Primed sampling 2 samples with temp=0.9898, top_k=0, top_p=0.0\n",
            "448/448 [00:42<00:00, 10.61it/s]\n",
            "1024/1024 [01:14<00:00, 13.79it/s]\n",
            "Sampling 8192 tokens for [10240,18432]. Conditioning on 7168 tokens\n",
            "Primed sampling 2 samples with temp=0.9898, top_k=0, top_p=0.0\n",
            "448/448 [00:41<00:00, 10.67it/s]\n",
            "1024/1024 [01:13<00:00, 13.93it/s]\n",
            "Sampling 8192 tokens for [11264,19456]. Conditioning on 7168 tokens\n",
            "Primed sampling 2 samples with temp=0.9898, top_k=0, top_p=0.0\n",
            "448/448 [00:41<00:00, 10.80it/s]\n",
            "1024/1024 [01:13<00:00, 13.91it/s]\n",
            "Sampling 8192 tokens for [12288,20480]. Conditioning on 7168 tokens\n",
            "Primed sampling 2 samples with temp=0.9898, top_k=0, top_p=0.0\n",
            "448/448 [00:41<00:00, 10.67it/s]\n",
            "1024/1024 [01:13<00:00, 13.93it/s]\n",
            "Sampling 8192 tokens for [13312,21504]. Conditioning on 7168 tokens\n",
            "Primed sampling 2 samples with temp=0.9898, top_k=0, top_p=0.0\n",
            "448/448 [00:41<00:00, 10.75it/s]\n",
            "1024/1024 [01:14<00:00, 13.81it/s]\n",
            "Sampling 8192 tokens for [14336,22528]. Conditioning on 7168 tokens\n",
            "Primed sampling 2 samples with temp=0.9898, top_k=0, top_p=0.0\n",
            "448/448 [00:41<00:00, 10.70it/s]\n",
            "1024/1024 [01:12<00:00, 14.05it/s]\n",
            "Sampling 8192 tokens for [15360,23552]. Conditioning on 7168 tokens\n",
            "Primed sampling 2 samples with temp=0.9898, top_k=0, top_p=0.0\n",
            "448/448 [00:41<00:00, 10.83it/s]\n",
            "1024/1024 [01:13<00:00, 13.96it/s]\n",
            "Sampling 8192 tokens for [16269,24461]. Conditioning on 7283 tokens\n",
            "Primed sampling 2 samples with temp=0.9898, top_k=0, top_p=0.0\n",
            "456/456 [00:42<00:00, 10.80it/s]\n",
            "909/909 [01:04<00:00, 14.01it/s]\n"
          ]
        }
      ]
    },
    {
      "cell_type": "markdown",
      "metadata": {
        "id": "-gxY9aqHqfLJ"
      },
      "source": [
        "Listen to the results from the top level (note this will sound very noisy until we do the upsampling stage).  You may have more generated samples, depending on the batch size you requested."
      ]
    },
    {
      "cell_type": "code",
      "metadata": {
        "id": "TPZENDGZqOOb"
      },
      "source": [
        "Audio(f'{hps.name}/level_2/item_0.wav')"
      ],
      "execution_count": null,
      "outputs": []
    },
    {
      "cell_type": "markdown",
      "metadata": {
        "id": "EJc3bQxmusc6"
      },
      "source": [
        "We are now done with the large top_prior model, and instead load the upsamplers."
      ]
    },
    {
      "cell_type": "code",
      "metadata": {
        "colab": {
          "base_uri": "https://localhost:8080/"
        },
        "id": "W5VLX0zRapIm",
        "outputId": "ea0003b0-23a4-42f6-ddac-b2f17fb97d96"
      },
      "source": [
        "# Set this False if you are on a local machine that has enough memory (this allows you to do the\n",
        "# lyrics alignment visualization during the upsampling stage). For a hosted runtime, \n",
        "# we'll need to go ahead and delete the top_prior if you are using the 5b_lyrics model.\n",
        "if True:\n",
        "  del top_prior\n",
        "  empty_cache()\n",
        "  top_prior=None\n",
        "upsamplers = [make_prior(setup_hparams(prior, dict()), vqvae, 'cpu') for prior in priors[:-1]]\n",
        "labels[:2] = [prior.labeller.get_batch_labels(metas, 'cuda') for prior in upsamplers]"
      ],
      "execution_count": 21,
      "outputs": [
        {
          "output_type": "stream",
          "name": "stdout",
          "text": [
            "Conditioning on 1 above level(s)\n",
            "Checkpointing convs\n",
            "Checkpointing convs\n"
          ]
        },
        {
          "output_type": "stream",
          "name": "stderr",
          "text": [
            "100%|██████████| 72/72 [00:06<00:00, 11.57it/s]\n"
          ]
        },
        {
          "output_type": "stream",
          "name": "stdout",
          "text": [
            "Loading artist IDs from /usr/local/lib/python3.7/dist-packages/jukebox/data/ids/v2_artist_ids.txt\n",
            "Loading artist IDs from /usr/local/lib/python3.7/dist-packages/jukebox/data/ids/v2_genre_ids.txt\n",
            "Level:0, Cond downsample:4, Raw to tokens:8, Sample length:65536\n",
            "Downloading from azure\n",
            "Running  wget -O /root/.cache/jukebox/models/5b/prior_level_0.pth.tar https://openaipublic.azureedge.net/jukebox/models/5b/prior_level_0.pth.tar\n"
          ]
        },
        {
          "output_type": "stream",
          "name": "stderr",
          "text": [
            "100%|██████████| 1005/1005 [00:09<00:00, 105.88it/s]\n"
          ]
        },
        {
          "output_type": "stream",
          "name": "stdout",
          "text": [
            "Restored from /root/.cache/jukebox/models/5b/prior_level_0.pth.tar\n",
            "0: Loading prior in eval mode\n",
            "Conditioning on 1 above level(s)\n",
            "Checkpointing convs\n",
            "Checkpointing convs\n"
          ]
        },
        {
          "output_type": "stream",
          "name": "stderr",
          "text": [
            "100%|██████████| 72/72 [00:06<00:00, 11.77it/s]\n"
          ]
        },
        {
          "output_type": "stream",
          "name": "stdout",
          "text": [
            "Loading artist IDs from /usr/local/lib/python3.7/dist-packages/jukebox/data/ids/v2_artist_ids.txt\n",
            "Loading artist IDs from /usr/local/lib/python3.7/dist-packages/jukebox/data/ids/v2_genre_ids.txt\n",
            "Level:1, Cond downsample:4, Raw to tokens:32, Sample length:262144\n",
            "Downloading from azure\n",
            "Running  wget -O /root/.cache/jukebox/models/5b/prior_level_1.pth.tar https://openaipublic.azureedge.net/jukebox/models/5b/prior_level_1.pth.tar\n"
          ]
        },
        {
          "output_type": "stream",
          "name": "stderr",
          "text": [
            "100%|██████████| 1005/1005 [00:08<00:00, 123.69it/s]\n"
          ]
        },
        {
          "output_type": "stream",
          "name": "stdout",
          "text": [
            "Restored from /root/.cache/jukebox/models/5b/prior_level_1.pth.tar\n",
            "0: Loading prior in eval mode\n",
            "Input genre cold new wave j rock maps to the list ['cold', 'new', 'wave', 'j', 'rock']. cold is not present in /usr/local/lib/python3.7/dist-packages/jukebox/data/ids/v2_genre_ids.txt. Defaulting to (word_id, word) = (0, unknown), if that seems wrong please format genre correctly\n",
            "Input genre cold new wave j rock maps to the list ['cold', 'new', 'wave', 'j', 'rock']. cold is not present in /usr/local/lib/python3.7/dist-packages/jukebox/data/ids/v2_genre_ids.txt. Defaulting to (word_id, word) = (0, unknown), if that seems wrong please format genre correctly\n",
            "Input genre cold new wave j rock maps to the list ['cold', 'new', 'wave', 'j', 'rock']. cold is not present in /usr/local/lib/python3.7/dist-packages/jukebox/data/ids/v2_genre_ids.txt. Defaulting to (word_id, word) = (0, unknown), if that seems wrong please format genre correctly\n",
            "Input genre cold new wave j rock maps to the list ['cold', 'new', 'wave', 'j', 'rock']. cold is not present in /usr/local/lib/python3.7/dist-packages/jukebox/data/ids/v2_genre_ids.txt. Defaulting to (word_id, word) = (0, unknown), if that seems wrong please format genre correctly\n"
          ]
        }
      ]
    },
    {
      "cell_type": "markdown",
      "metadata": {
        "id": "eH_jUhGDprAt"
      },
      "source": [
        "Please note: this next upsampling step will take several hours.  At the free tier, Google CoLab lets you run for 12 hours.  As the upsampling is completed, samples will appear in the Files tab (you can access this at the left of the CoLab), under \"samples\" (or whatever hps.name is currently).  Level 1 is the partially upsampled version, and then Level 0 is fully completed."
      ]
    },
    {
      "cell_type": "code",
      "metadata": {
        "id": "9lkJgLolpZ6w",
        "outputId": "f7898375-6a6f-4cd3-dc71-410cb88023d0",
        "colab": {
          "base_uri": "https://localhost:8080/"
        }
      },
      "source": [
        "zs = upsample(zs, labels, sampling_kwargs, [*upsamplers, top_prior], hps)"
      ],
      "execution_count": null,
      "outputs": [
        {
          "output_type": "stream",
          "name": "stdout",
          "text": [
            "Sampling level 1\n",
            "hop_fraction 1 detected, enabling speed upsampling\n",
            "thank me later, -MichaelsLab\n",
            "-65996 0 0\n",
            "Sampling 8192 tokens for [0,8192]. Conditioning on 0 tokens\n",
            "Ancestral sampling 11 samples with temp=0.99, top_k=0, top_p=0.0\n",
            "8192/8192 [08:45<00:00, 15.60it/s]\n",
            "-65996 0 0\n",
            "Sampling 8192 tokens for [0,8192]. Conditioning on 0 tokens\n",
            "Ancestral sampling 11 samples with temp=0.99, top_k=0, top_p=0.0\n",
            "8192/8192 [08:45<00:00, 15.60it/s]\n",
            "Sampling level 0\n",
            "hop_fraction 1 detected, enabling speed upsampling\n",
            "thank me later, -MichaelsLab\n",
            "0 0 0\n",
            "Sampling 8192 tokens for [0,8192]. Conditioning on 0 tokens\n",
            "Ancestral sampling 20 samples with temp=0.99, top_k=0, top_p=0.0\n",
            "8192/8192 [08:43<00:00, 15.64it/s]\n",
            "0 0 0\n",
            "Sampling 8192 tokens for [0,8192]. Conditioning on 0 tokens\n",
            "Ancestral sampling 20 samples with temp=0.99, top_k=0, top_p=0.0\n",
            "8192/8192 [08:49<00:00, 15.47it/s]\n",
            "163840 0 0\n",
            "Sampling 8192 tokens for [0,8192]. Conditioning on 0 tokens\n",
            "Ancestral sampling 20 samples with temp=0.99, top_k=0, top_p=0.0\n",
            "8192/8192 [08:38<00:00, 15.80it/s]\n",
            "163840 0 0\n",
            "Sampling 8192 tokens for [0,8192]. Conditioning on 0 tokens\n",
            "Ancestral sampling 20 samples with temp=0.99, top_k=0, top_p=0.0\n",
            "8192/8192 [08:39<00:00, 15.77it/s]\n",
            "227536 100144 12\n",
            "Sampling 8192 tokens for [0,8192]. Conditioning on 0 tokens\n",
            "Ancestral sampling 4 samples with temp=0.99, top_k=0, top_p=0.0\n",
            "8192/8192 [08:42<00:00, 15.68it/s]\n",
            "227536 100144 12\n",
            "Sampling 8192 tokens for [0,8192]. Conditioning on 0 tokens\n",
            "Ancestral sampling 4 samples with temp=0.99, top_k=0, top_p=0.0\n",
            "3549/8192 [03:46<04:52, 15.89it/s]"
          ]
        }
      ]
    },
    {
      "cell_type": "markdown",
      "metadata": {
        "id": "3SJgBYJPri55"
      },
      "source": [
        "Listen to your final sample!"
      ]
    },
    {
      "cell_type": "code",
      "metadata": {
        "id": "2ip2PPE0rgAb"
      },
      "source": [
        "Audio(f'{hps.name}/level_0/item_0.wav')"
      ],
      "execution_count": null,
      "outputs": []
    },
    {
      "cell_type": "code",
      "metadata": {
        "id": "8JAgFxytwrLG"
      },
      "source": [
        "del upsamplers\n",
        "empty_cache()"
      ],
      "execution_count": null,
      "outputs": []
    },
    {
      "cell_type": "markdown",
      "metadata": {
        "id": "LpvvFH85bbBC"
      },
      "source": [
        "# Co-Composing with the 5B or 1B Lyrics Model"
      ]
    },
    {
      "cell_type": "markdown",
      "metadata": {
        "id": "nFDROuS7gFQY"
      },
      "source": [
        "For more control over the generations, try co-composing with either the 5B or 1B Lyrics Models.  Again, specify your artist, genre, and lyrics. However, now instead of generating the entire sample, the model will return 3 short options for the opening of the piece (or up to 16 options if you use the 1B model instead).  Choose your favorite, and then continue the loop, for as long as you like.  Throughout these steps, you'll be listening to the audio at the top prior level, which means it will sound quite noisy.  When you are satisfied with your co-creation, continue on through the upsampling section. This will render the piece in higher audio quality.\n",
        "\n",
        "NOTE: CoLab will first assign you a lower memory machine if you are using a hosted runtime.  The next cell will run out of memory, and then you'll be prompted to restart with more memory (then return to the top of this CoLab).  If you continue to have memory issues after this (or run into issues on your own home setup), switch to the 1B model. "
      ]
    },
    {
      "cell_type": "code",
      "metadata": {
        "id": "3y-q8ifhGBlU"
      },
      "source": [
        "model = \"5b_lyrics\" # or \"1b_lyrics\"\n",
        "hps = Hyperparams()\n",
        "hps.sr = 44100\n",
        "hps.n_samples = 3 if model in ('5b', '5b_lyrics') else 16\n",
        "# Specifies the directory to save the sample in.\n",
        "# We set this to the Google Drive mount point.\n",
        "hps.name = '/content/gdrive/My Drive/co_composer'\n",
        "hps.sample_length = 1048576 if model in ('5b', '5b_lyrics') else 786432 \n",
        "chunk_size = 16 if model in ('5b', '5b_lyrics') else 32\n",
        "max_batch_size = 3 if model in ('5b', '5b_lyrics') else 16\n",
        "hps.hop_fraction = [.5, .5, .125] \n",
        "hps.levels = 3\n",
        "\n",
        "vqvae, *priors = MODELS[model]\n",
        "vqvae = make_vqvae(setup_hparams(vqvae, dict(sample_length = hps.sample_length)), device)\n",
        "top_prior = make_prior(setup_hparams(priors[-1], dict()), vqvae, device)"
      ],
      "execution_count": null,
      "outputs": []
    },
    {
      "cell_type": "markdown",
      "metadata": {
        "id": "DTuWFdLQ0hSa"
      },
      "source": [
        "# Select mode\n",
        "Run one of these cells to select the desired mode."
      ]
    },
    {
      "cell_type": "code",
      "metadata": {
        "id": "5O4H7fxt0hSa"
      },
      "source": [
        "# The default mode of operation.\n",
        "# Creates songs based on artist and genre conditioning.\n",
        "mode = 'ancestral'\n",
        "codes_file=None\n",
        "audio_file=None\n",
        "prompt_length_in_seconds=None"
      ],
      "execution_count": null,
      "outputs": []
    },
    {
      "cell_type": "code",
      "metadata": {
        "id": "A01MBdRm0hSb"
      },
      "source": [
        "# Prime song creation using an arbitrary audio sample.\n",
        "mode = 'primed'\n",
        "codes_file=None\n",
        "# Specify an audio file here.\n",
        "audio_file = '/content/gdrive/My Drive/primer.wav'\n",
        "# Specify how many seconds of audio to prime on.\n",
        "prompt_length_in_seconds=12"
      ],
      "execution_count": null,
      "outputs": []
    },
    {
      "cell_type": "markdown",
      "metadata": {
        "id": "PvGntPVb0hSb"
      },
      "source": [
        "Run the cell below regardless of which mode you chose."
      ]
    },
    {
      "cell_type": "code",
      "metadata": {
        "id": "w2TTpGD70hSb"
      },
      "source": [
        "sample_hps = Hyperparams(dict(mode=mode, codes_file=codes_file, audio_file=audio_file, prompt_length_in_seconds=prompt_length_in_seconds))"
      ],
      "execution_count": null,
      "outputs": []
    },
    {
      "cell_type": "markdown",
      "metadata": {
        "id": "68hz4x7igq0c"
      },
      "source": [
        "Specify your choice of artist, genre, lyrics, and length of musical sample. "
      ]
    },
    {
      "cell_type": "code",
      "metadata": {
        "id": "WwCdjPKo0hSc"
      },
      "source": [
        "sample_length_in_seconds = 71          # Full length of musical sample to generate - we find songs in the 1 to 4 minute\n",
        "                                       # range work well, with generation time proportional to sample length.  \n",
        "                                       # This total length affects how quickly the model \n",
        "                                       # progresses through lyrics (model also generates differently\n",
        "                                       # depending on if it thinks it's in the beginning, middle, or end of sample)\n",
        "hps.sample_length = (int(sample_length_in_seconds*hps.sr)//top_prior.raw_to_tokens)*top_prior.raw_to_tokens\n",
        "assert hps.sample_length >= top_prior.n_ctx*top_prior.raw_to_tokens, f'Please choose a larger sampling rate'"
      ],
      "execution_count": null,
      "outputs": []
    },
    {
      "cell_type": "code",
      "metadata": {
        "id": "QDMvH_1zUHo6"
      },
      "source": [
        "metas = [dict(artist = \"Zac Brown Band\",\n",
        "            genre = \"Country\",\n",
        "            total_length = hps.sample_length,\n",
        "            offset = 0,\n",
        "            lyrics = \"\"\"I met a traveller from an antique land,\n",
        "            Who said—“Two vast and trunkless legs of stone\n",
        "            Stand in the desert. . . . Near them, on the sand,\n",
        "            Half sunk a shattered visage lies, whose frown,\n",
        "            And wrinkled lip, and sneer of cold command,\n",
        "            Tell that its sculptor well those passions read\n",
        "            Which yet survive, stamped on these lifeless things,\n",
        "            The hand that mocked them, and the heart that fed;\n",
        "            And on the pedestal, these words appear:\n",
        "            My name is Ozymandias, King of Kings;\n",
        "            Look on my Works, ye Mighty, and despair!\n",
        "            Nothing beside remains. Round the decay\n",
        "            Of that colossal Wreck, boundless and bare\n",
        "            The lone and level sands stretch far away\n",
        "            \"\"\",\n",
        "            ),\n",
        "          ] * hps.n_samples\n",
        "labels = top_prior.labeller.get_batch_labels(metas, 'cuda')"
      ],
      "execution_count": null,
      "outputs": []
    },
    {
      "cell_type": "markdown",
      "metadata": {
        "id": "B9onZMEXh34f"
      },
      "source": [
        "## Generate 3 options for the start of the song\n",
        "\n",
        "Initial generation is set to be 4 seconds long, but feel free to change this"
      ]
    },
    {
      "cell_type": "code",
      "metadata": {
        "id": "c6peEj8I_HHO"
      },
      "source": [
        "def seconds_to_tokens(sec, sr, prior, chunk_size):\n",
        "  tokens = sec * hps.sr // prior.raw_to_tokens\n",
        "  tokens = ((tokens // chunk_size) + 1) * chunk_size\n",
        "  assert tokens <= prior.n_ctx, 'Choose a shorter generation length to stay within the top prior context'\n",
        "  return tokens"
      ],
      "execution_count": null,
      "outputs": []
    },
    {
      "cell_type": "code",
      "metadata": {
        "id": "2gn2GXt3zt3y"
      },
      "source": [
        "initial_generation_in_seconds = 4\n",
        "tokens_to_sample = seconds_to_tokens(initial_generation_in_seconds, hps.sr, top_prior, chunk_size)"
      ],
      "execution_count": null,
      "outputs": []
    },
    {
      "cell_type": "markdown",
      "metadata": {
        "id": "U0zcWcMoiigl"
      },
      "source": [
        "Change the sampling temperature if you like (higher is more random).  Our favorite is in the range .98 to .995"
      ]
    },
    {
      "cell_type": "code",
      "metadata": {
        "id": "NHbH68H7VMeO"
      },
      "source": [
        "sampling_temperature = .98\n",
        "\n",
        "lower_batch_size = 16\n",
        "max_batch_size = 3 if model in ('5b', '5b_lyrics') else 16\n",
        "lower_level_chunk_size = 32\n",
        "chunk_size = 16 if model in ('5b', '5b_lyrics') else 32\n",
        "sampling_kwargs = dict(temp=sampling_temperature, fp16=True, max_batch_size=lower_batch_size,\n",
        "                        chunk_size=lower_level_chunk_size)"
      ],
      "execution_count": null,
      "outputs": []
    },
    {
      "cell_type": "code",
      "metadata": {
        "id": "JGZEPe-WTt4g"
      },
      "source": [
        "if sample_hps.mode == 'ancestral':\n",
        "  zs=[t.zeros(hps.n_samples,0,dtype=t.long, device='cuda') for _ in range(3)]\n",
        "  zs=sample_partial_window(zs, labels, sampling_kwargs, 2, top_prior, tokens_to_sample, hps)\n",
        "elif sample_hps.mode == 'primed':\n",
        "  assert sample_hps.audio_file is not None\n",
        "  audio_files = sample_hps.audio_file.split(',')\n",
        "  duration = (int(sample_hps.prompt_length_in_seconds*hps.sr)//top_prior.raw_to_tokens)*top_prior.raw_to_tokens\n",
        "  x = load_prompts(audio_files, duration, hps)\n",
        "  zs = top_prior.encode(x, start_level=0, end_level=len(priors), bs_chunks=x.shape[0])\n",
        "  zs = sample_partial_window(zs, labels, sampling_kwargs, 2, top_prior, tokens_to_sample, hps)\n",
        "x = vqvae.decode(zs[2:], start_level=2).cpu().numpy()"
      ],
      "execution_count": null,
      "outputs": []
    },
    {
      "cell_type": "markdown",
      "metadata": {
        "id": "mveN4Be8jK2J"
      },
      "source": [
        "Listen to your generated samples, and then pick a favorite. If you don't like any, go back and rerun the cell above. \n",
        "\n",
        "** NOTE this is at the noisy top level, upsample fully (in the next section) to hear the final audio version"
      ]
    },
    {
      "cell_type": "code",
      "metadata": {
        "id": "LrJSGMhUOhZg"
      },
      "source": [
        "for i in range(hps.n_samples):\n",
        "  librosa.output.write_wav(f'noisy_top_level_generation_{i}.wav', x[i], sr=44100)"
      ],
      "execution_count": null,
      "outputs": []
    },
    {
      "cell_type": "code",
      "metadata": {
        "id": "rQ4ersQ5OhZr"
      },
      "source": [
        "Audio('noisy_top_level_generation_0.wav')"
      ],
      "execution_count": null,
      "outputs": []
    },
    {
      "cell_type": "code",
      "metadata": {
        "id": "-GdqzrGkOhZv"
      },
      "source": [
        "Audio('noisy_top_level_generation_1.wav')"
      ],
      "execution_count": null,
      "outputs": []
    },
    {
      "cell_type": "code",
      "metadata": {
        "id": "gE5S8hyZOhZy"
      },
      "source": [
        "Audio('noisy_top_level_generation_2.wav')"
      ],
      "execution_count": null,
      "outputs": []
    },
    {
      "cell_type": "markdown",
      "metadata": {
        "id": "t2-mEJaqZfuS"
      },
      "source": [
        "If you don't like any of the options, return a few cells back to \"Sample a few options...\" and rerun from there."
      ]
    },
    {
      "cell_type": "markdown",
      "metadata": {
        "id": "o7CzSiv0MmFP"
      },
      "source": [
        "## Choose your favorite sample and request longer generation\n",
        "\n",
        "---\n",
        "\n",
        "(Repeat from here)\n"
      ]
    },
    {
      "cell_type": "code",
      "metadata": {
        "id": "j_XFtVi99CIY"
      },
      "source": [
        "my_choice=0"
      ],
      "execution_count": null,
      "outputs": []
    },
    {
      "cell_type": "code",
      "metadata": {
        "id": "Pgk3sHHBLYoq"
      },
      "source": [
        "zs[2]=zs[2][my_choice].repeat(hps.n_samples,1)\n",
        "t.save(zs, 'zs-checkpoint2.t')"
      ],
      "execution_count": null,
      "outputs": []
    },
    {
      "cell_type": "code",
      "metadata": {
        "id": "W8Rd9xxm565S"
      },
      "source": [
        "# Set to True to load the previous checkpoint:\n",
        "if False:\n",
        "  zs=t.load('zs-checkpoint2.t') "
      ],
      "execution_count": null,
      "outputs": []
    },
    {
      "cell_type": "markdown",
      "metadata": {
        "id": "k12xjMgHkRGP"
      },
      "source": [
        "Choose the length of the continuation.  The 1B model can generate up to 17 second samples and the 5B up to 23 seconds, but you'll want to pick a shorter continuation length so that it will be able to look back at what you've generated already.  Here we've chosen 4 seconds."
      ]
    },
    {
      "cell_type": "code",
      "metadata": {
        "id": "h3_-0a07kHHG"
      },
      "source": [
        "continue_generation_in_seconds=4\n",
        "tokens_to_sample = seconds_to_tokens(continue_generation_in_seconds, hps.sr, top_prior, chunk_size)"
      ],
      "execution_count": null,
      "outputs": []
    },
    {
      "cell_type": "markdown",
      "metadata": {
        "id": "GpPG3Ifqk8ue"
      },
      "source": [
        "The next step asks the top prior to generate more of the sample. It'll take up to a few minutes, depending on the sample length you request."
      ]
    },
    {
      "cell_type": "code",
      "metadata": {
        "id": "YoHkeSTaEyLj"
      },
      "source": [
        "zs = sample_partial_window(zs, labels, sampling_kwargs, 2, top_prior, tokens_to_sample, hps)\n",
        "x = vqvae.decode(zs[2:], start_level=2).cpu().numpy()"
      ],
      "execution_count": null,
      "outputs": []
    },
    {
      "cell_type": "markdown",
      "metadata": {
        "id": "ymhUqEdhleEi"
      },
      "source": [
        "Now listen to the longer versions of the sample you selected, and again choose a favorite sample.  If you don't like any, return back to the cell where you can load the checkpoint, and continue again from there.\n",
        "\n",
        "When the samples start getting long, you might not always want to listen from the start, so change the playback start time later on if you like."
      ]
    },
    {
      "cell_type": "code",
      "metadata": {
        "id": "2H1LNLTa_R6a"
      },
      "source": [
        "playback_start_time_in_seconds = 0 "
      ],
      "execution_count": null,
      "outputs": []
    },
    {
      "cell_type": "code",
      "metadata": {
        "id": "r4SBGAmsnJtH"
      },
      "source": [
        "for i in range(hps.n_samples):\n",
        "  librosa.output.write_wav(f'top_level_continuation_{i}.wav', x[i][playback_start_time_in_seconds*44100:], sr=44100)"
      ],
      "execution_count": null,
      "outputs": []
    },
    {
      "cell_type": "code",
      "metadata": {
        "id": "2WeyE5Qtnmeo"
      },
      "source": [
        "Audio('top_level_continuation_0.wav')"
      ],
      "execution_count": null,
      "outputs": []
    },
    {
      "cell_type": "code",
      "metadata": {
        "id": "BKtfEtcaazXE"
      },
      "source": [
        "Audio('top_level_continuation_1.wav')"
      ],
      "execution_count": null,
      "outputs": []
    },
    {
      "cell_type": "code",
      "metadata": {
        "id": "7yrlS0XwK2S0"
      },
      "source": [
        "Audio('top_level_continuation_2.wav')"
      ],
      "execution_count": null,
      "outputs": []
    },
    {
      "cell_type": "markdown",
      "metadata": {
        "id": "-OJT704dvnGv"
      },
      "source": [
        "To make a longer song, return back to \"Choose your favorite sample\" and loop through that again"
      ]
    },
    {
      "cell_type": "markdown",
      "metadata": {
        "id": "RzCrkCZJvUcQ"
      },
      "source": [
        "# Upsample Co-Composition to Higher Audio Quality"
      ]
    },
    {
      "cell_type": "markdown",
      "metadata": {
        "id": "4MPgukwMmB0p"
      },
      "source": [
        "Choose your favorite sample from your latest group of generations.  (If you haven't already gone through the Co-Composition block, make sure to do that first so you have a generation to upsample)."
      ]
    },
    {
      "cell_type": "code",
      "metadata": {
        "id": "yv-pNNPHBQYC"
      },
      "source": [
        "choice = 0\n",
        "select_best_sample = True  # Set false if you want to upsample all your samples \n",
        "                           # upsampling sometimes yields subtly different results on multiple runs,\n",
        "                           # so this way you can choose your favorite upsampling"
      ],
      "execution_count": null,
      "outputs": []
    },
    {
      "cell_type": "code",
      "metadata": {
        "id": "v17cEAqyCgfo"
      },
      "source": [
        "if select_best_sample:\n",
        "  zs[2]=zs[2][choice].repeat(zs[2].shape[0],1)\n",
        "\n",
        "t.save(zs, 'zs-top-level-final.t')"
      ],
      "execution_count": null,
      "outputs": []
    },
    {
      "cell_type": "markdown",
      "metadata": {
        "id": "0YjK-Ac0tBfu"
      },
      "source": [
        "Note: If you are using a CoLab hosted runtime on the free tier, you may want to download this zs-top-level-final.t file, and then restart an instance and load it in the next cell.  The free tier will last a maximum of 12 hours, and the upsampling stage can take many hours, depending on how long a sample you have generated."
      ]
    },
    {
      "cell_type": "code",
      "metadata": {
        "id": "qqlR9368s3jJ"
      },
      "source": [
        "if False:\n",
        "  zs = t.load('zs-top-level-final.t')\n",
        "\n",
        "assert zs[2].shape[1]>=2048, f'Please first generate at least 2048 tokens at the top level, currently you have {zs[2].shape[1]}'\n",
        "hps.sample_length = zs[2].shape[1]*top_prior.raw_to_tokens"
      ],
      "execution_count": null,
      "outputs": []
    },
    {
      "cell_type": "code",
      "metadata": {
        "id": "jzHwF_iqgIWM"
      },
      "source": [
        "# Set this False if you are on a local machine that has enough memory (this allows you to do the\n",
        "# lyrics alignment visualization). For a hosted runtime, we'll need to go ahead and delete the top_prior\n",
        "# if you are using the 5b_lyrics model.\n",
        "if True:\n",
        "  del top_prior\n",
        "  empty_cache()\n",
        "  top_prior=None\n",
        "\n",
        "upsamplers = [make_prior(setup_hparams(prior, dict()), vqvae, 'cpu') for prior in priors[:-1]]"
      ],
      "execution_count": null,
      "outputs": []
    },
    {
      "cell_type": "code",
      "metadata": {
        "id": "q22Ier6YSkKS"
      },
      "source": [
        "sampling_kwargs = [dict(temp=.99, fp16=True, max_batch_size=16, chunk_size=32),\n",
        "                    dict(temp=0.99, fp16=True, max_batch_size=16, chunk_size=32),\n",
        "                    None]\n",
        "\n",
        "if type(labels)==dict:\n",
        "  labels = [prior.labeller.get_batch_labels(metas, 'cuda') for prior in upsamplers] + [labels] "
      ],
      "execution_count": null,
      "outputs": []
    },
    {
      "cell_type": "markdown",
      "metadata": {
        "id": "T1MCa9_jnjpf"
      },
      "source": [
        "This next step upsamples 2 levels.  The level_1 samples will be available after around one hour (depending on the length of your sample) and are saved under {hps.name}/level_0/item_0.wav, while the fully upsampled level_0 will likely take 4-12 hours. You can access the wav files down below, or using the \"Files\" panel at the left of this CoLab.\n",
        "\n",
        "(Please note, if you are using this CoLab on Google's free tier, you may want to download intermediate steps as the connection will last for a maximum 12 hours.)"
      ]
    },
    {
      "cell_type": "code",
      "metadata": {
        "id": "NcNT5qIRMmHq"
      },
      "source": [
        "zs = upsample(zs, labels, sampling_kwargs, [*upsamplers, top_prior], hps)"
      ],
      "execution_count": null,
      "outputs": []
    },
    {
      "cell_type": "code",
      "metadata": {
        "id": "W2jTYLPBc29M"
      },
      "source": [
        "Audio(f'{hps.name}/level_0/item_0.wav')"
      ],
      "execution_count": null,
      "outputs": []
    }
  ]
}